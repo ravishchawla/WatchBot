{
 "cells": [
  {
   "cell_type": "markdown",
   "metadata": {},
   "source": [
    "We will read a file that will have the following format:\n",
    "\n",
    "<Link>,<replies, (+) comments, (+) votes>\n",
    "\n",
    "The link can either be a post link or a comment link. If it's a post link, it will monitor the entire post, or if it's a comment, just that. Replies will monitor when there are any big replies, comments are for subcomments, votes for any vote changes. Add + between them to monitor more than one."
   ]
  },
  {
   "cell_type": "code",
   "execution_count": 1,
   "metadata": {
    "collapsed": true
   },
   "outputs": [],
   "source": [
    "import pandas as pd;\n",
    "import praw;\n",
    "import json;\n",
    "from urllib.parse import urlparse;\n",
    "import pickle;\n",
    "import time;\n",
    "from os.path import exists;\n",
    "from difflib import SequenceMatcher"
   ]
  },
  {
   "cell_type": "code",
   "execution_count": 2,
   "metadata": {
    "collapsed": true
   },
   "outputs": [],
   "source": [
    "def get_id_from_url(url):\n",
    "    parsed = urlparse(url);\n",
    "    parts = parsed.path.split('/');\n",
    "    if parts[-1] == '':\n",
    "        parts.pop();\n",
    "    \n",
    "    submission_id = parts[parts.index('comments') + 1];\n",
    "    \n",
    "    if len(parts) == 7:\n",
    "        comments_id = parts[-1];\n",
    "        return [submission_id, comments_id];\n",
    "    return [submission_id];"
   ]
  },
  {
   "cell_type": "code",
   "execution_count": 3,
   "metadata": {
    "collapsed": true
   },
   "outputs": [],
   "source": [
    "def get_replies(submission_ids):\n",
    "    replies = [];\n",
    "    \n",
    "    submission = praw_obj.submission(submission_ids[0]);\n",
    "    submission.comments.replace_more(limit=0)\n",
    "    \n",
    "    if len(submission_ids) == 2:\n",
    "        comment_id = submission_ids[1];\n",
    "        \n",
    "        for comment in submission.comments:\n",
    "            if comment == comment_id:\n",
    "                comment_thread_id = comment;\n",
    "                break;\n",
    "        \n",
    "        for comment in submission.comments.list():\n",
    "            if comment.parent_id[3:] == comment_thread_id:\n",
    "                replies.append(comment.body);\n",
    "    else:\n",
    "        for comment in submission.comments:\n",
    "            replies.append(comment.body);\n",
    "\n",
    "    return replies;"
   ]
  },
  {
   "cell_type": "code",
   "execution_count": 4,
   "metadata": {
    "collapsed": true
   },
   "outputs": [],
   "source": [
    "def get_comments(submission_ids):\n",
    "    replies = [];\n",
    "    \n",
    "    submission = praw_obj.submission(submission_ids[0]);\n",
    "    submission.comments.replace_more(limit=0)\n",
    "    \n",
    "    if len(submission_ids) == 2:\n",
    "        comment_id = submission_ids[1];\n",
    "        \n",
    "        for comment in submission.comments:\n",
    "            if comment == comment_id:\n",
    "                comment_thread_id = comment;\n",
    "                break;\n",
    "        comment_queue = [comment_thread_id];\n",
    "        while comment_queue:\n",
    "            next_comment = comment_queue.pop(0);\n",
    "            replies.append(next_comment.body);\n",
    "            comment_queue.extend(next_comment.replies)\n",
    "\n",
    "    else:\n",
    "        for comment in submission.comments.list():\n",
    "            replies.append(comment.body);\n",
    "\n",
    "    return replies;"
   ]
  },
  {
   "cell_type": "code",
   "execution_count": 5,
   "metadata": {
    "collapsed": true
   },
   "outputs": [],
   "source": [
    "def get_votes(submission_ids):\n",
    "    submission = praw_obj.submission(submission_ids[0]);\n",
    "    \n",
    "    if len(submission_ids) == 2:\n",
    "        for comment in submission.comments:\n",
    "            if comment == submission_ids[1]:\n",
    "                vote = comment.score;\n",
    "    else:\n",
    "        vote = submission.score;\n",
    "    \n",
    "    return vote;"
   ]
  },
  {
   "cell_type": "code",
   "execution_count": 7,
   "metadata": {},
   "outputs": [],
   "source": [
    "#replies = get_replies('https://www.reddit.com/r/AtlantaUnited/comments/6zmues/transaction_tuesday_september_12_2017/?st=j7lyd7mg&sh=fb2ffdba');"
   ]
  },
  {
   "cell_type": "code",
   "execution_count": 8,
   "metadata": {
    "collapsed": true
   },
   "outputs": [],
   "source": [
    "#comments = get_replies('https://www.reddit.com/r/AtlantaUnited/comments/6zmues/transaction_tuesday_september_12_2017/dmwpm8y/');"
   ]
  },
  {
   "cell_type": "code",
   "execution_count": 9,
   "metadata": {
    "collapsed": true
   },
   "outputs": [],
   "source": [
    "#votes = get_votes('https://www.reddit.com/r/AtlantaUnited/comments/6zmues/transaction_tuesday_september_12_2017/dmwpm8y/');"
   ]
  },
  {
   "cell_type": "code",
   "execution_count": 10,
   "metadata": {
    "collapsed": true
   },
   "outputs": [],
   "source": [
    "def save_replies(replies, title):\n",
    "    pickle.dump(replies, open(title + '_replies.pkl', 'wb'));"
   ]
  },
  {
   "cell_type": "code",
   "execution_count": 11,
   "metadata": {
    "collapsed": true
   },
   "outputs": [],
   "source": [
    "def save_comments(comments, title):\n",
    "    pickle.dump(comments, open(title + '_comments.pkl', 'wb'));"
   ]
  },
  {
   "cell_type": "code",
   "execution_count": 12,
   "metadata": {
    "collapsed": true
   },
   "outputs": [],
   "source": [
    "def save_votes(votes, title):\n",
    "    pickle.dump(votes, open(title + '_votes.pkl', 'wb'));"
   ]
  },
  {
   "cell_type": "code",
   "execution_count": 13,
   "metadata": {
    "collapsed": true
   },
   "outputs": [],
   "source": [
    "def save_duration(duration_table):\n",
    "    pickle.dump(duration_table, open('duration.pkl', 'wb'));"
   ]
  },
  {
   "cell_type": "code",
   "execution_count": 14,
   "metadata": {
    "collapsed": true
   },
   "outputs": [],
   "source": [
    "def load_replies(title):\n",
    "    title = title + '_replies.pkl';\n",
    "    replies = [];\n",
    "    if exists(title):\n",
    "        replies = pickle.load(open(title, 'rb'));\n",
    "    return replies;"
   ]
  },
  {
   "cell_type": "code",
   "execution_count": 15,
   "metadata": {
    "collapsed": true
   },
   "outputs": [],
   "source": [
    "def load_comments(title):\n",
    "    title = title + '_comments.pkl';\n",
    "    comments = [];\n",
    "    if exists(title):\n",
    "        comments = pickle.load(open(title, 'rb'));\n",
    "    return comments;"
   ]
  },
  {
   "cell_type": "code",
   "execution_count": 16,
   "metadata": {
    "collapsed": true
   },
   "outputs": [],
   "source": [
    "def load_votes(title):\n",
    "    title = title + '_votes.pkl';\n",
    "    votes = 0;\n",
    "    if exists(title):\n",
    "        votes = pickle.load(open(title, 'rb'));\n",
    "    return votes;"
   ]
  },
  {
   "cell_type": "code",
   "execution_count": 17,
   "metadata": {
    "collapsed": true
   },
   "outputs": [],
   "source": [
    "def load_duration():\n",
    "    title = 'duration.pkl';\n",
    "    duration_table = {};\n",
    "    if exists(title):\n",
    "        duration_table = pickle.load(open('duration.pkl', 'rb'));\n",
    "    return duration_table;"
   ]
  },
  {
   "cell_type": "code",
   "execution_count": 18,
   "metadata": {
    "collapsed": true
   },
   "outputs": [],
   "source": [
    "def update_duration(submission_key, duration_table):\n",
    "    duration_table[submission_key] = time.time();\n",
    "    return duration_table;"
   ]
  },
  {
   "cell_type": "code",
   "execution_count": 19,
   "metadata": {
    "collapsed": true
   },
   "outputs": [],
   "source": [
    "def should_update(submission_key, duration_table, duration):\n",
    "    if submission_key not in duration_table:\n",
    "        return True;\n",
    "    \n",
    "    time_since_last_update = time.time() - duration_table[submission_key];\n",
    "    \n",
    "    return (time_since_last_update >= duration);"
   ]
  },
  {
   "cell_type": "code",
   "execution_count": 20,
   "metadata": {
    "collapsed": true
   },
   "outputs": [],
   "source": [
    "def get_updates(submission_ids, submission_key, update_types):\n",
    "    updates = {};\n",
    "    all_vals = {};\n",
    "    \n",
    "    if 'replies' in update_types:\n",
    "        all_replies = get_replies(submission_ids);\n",
    "        old_replies = load_replies(submission_key);\n",
    "        \n",
    "        new_replies = [i for i in all_replies if not i in old_replies]\n",
    "        updates['replies'] = new_replies;\n",
    "        all_vals['replies'] = all_replies;\n",
    "    \n",
    "    if 'comments' in update_types:\n",
    "        all_comments = get_comments(submission_ids);\n",
    "        old_comments = load_comments(submission_key);\n",
    "        \n",
    "        new_comments = [i for i in all_replies if not i in old_comments]\n",
    "        updates['comments'] = new_comments;\n",
    "        all_vals['comments'] = all_comments;\n",
    "    \n",
    "    if 'votes' in update_types:\n",
    "        current_vote = get_votes(submission_ids);\n",
    "        previus_vote = load_votes(submission_key);\n",
    "        \n",
    "        vote_difference = current_vote - previus_vote;\n",
    "        updates['votes'] = (vote_difference);\n",
    "        all_vals['votes'] = current_vote;\n",
    "    \n",
    "    return updates, all_vals;"
   ]
  },
  {
   "cell_type": "code",
   "execution_count": 21,
   "metadata": {
    "collapsed": true
   },
   "outputs": [],
   "source": [
    "def save_updates(submission_key, updates):\n",
    "    if 'replies' in updates:\n",
    "        save_replies(updates['replies'], submission_key);\n",
    "    \n",
    "    if 'comments' in updates:\n",
    "        save_comments(updates['comments'], submission_key);\n",
    "    \n",
    "    if 'votes' in updates:\n",
    "        save_votes(updates['votes'], submission_key);"
   ]
  },
  {
   "cell_type": "code",
   "execution_count": 22,
   "metadata": {
    "collapsed": true
   },
   "outputs": [],
   "source": [
    "#Main function\n",
    "links = pd.read_csv('links.txt', header=None);\n",
    "creds = json.load(open('creds.json', 'r'));\n",
    "praw_obj = praw.Reddit(user_agent='WatchBot',\n",
    "                     client_id=creds['client_id'], client_secret=creds['client_secret']);\n",
    "\n"
   ]
  },
  {
   "cell_type": "code",
   "execution_count": 23,
   "metadata": {
    "collapsed": true
   },
   "outputs": [],
   "source": [
    "duration_table = load_duration();\n",
    "\n",
    "for idx in range(len(links)):\n",
    "    submission_ids = get_id_from_url(links.iloc[idx][0]);\n",
    "    submission_ref = '_'.join(submission_ids);\n",
    "    \n",
    "    update_types = links.iloc[idx][1];\n",
    "    duration = links.iloc[idx][2];\n",
    "    \n",
    "    if should_update(submission_ref, duration_table, duration):\n",
    "        updated_vals, all_vals = get_updates(submission_ids, submission_ref, update_types);\n",
    "        save_updates(submission_ref, all_vals);\n",
    "        update_duration(submission_ref, duration_table);\n",
    "    \n",
    "save_duration(duration_table);"
   ]
  },
  {
   "cell_type": "code",
   "execution_count": 26,
   "metadata": {},
   "outputs": [
    {
     "data": {
      "text/plain": [
       "dict_keys(['replies', 'comments', 'votes'])"
      ]
     },
     "execution_count": 26,
     "metadata": {},
     "output_type": "execute_result"
    }
   ],
   "source": []
  },
  {
   "cell_type": "code",
   "execution_count": null,
   "metadata": {
    "collapsed": true
   },
   "outputs": [],
   "source": []
  }
 ],
 "metadata": {
  "kernelspec": {
   "display_name": "Python 3",
   "language": "python",
   "name": "python3"
  },
  "language_info": {
   "codemirror_mode": {
    "name": "ipython",
    "version": 3
   },
   "file_extension": ".py",
   "mimetype": "text/x-python",
   "name": "python",
   "nbconvert_exporter": "python",
   "pygments_lexer": "ipython3",
   "version": "3.6.1"
  }
 },
 "nbformat": 4,
 "nbformat_minor": 2
}
